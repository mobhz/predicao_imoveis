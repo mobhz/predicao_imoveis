{
 "cells": [
  {
   "cell_type": "code",
   "execution_count": 1,
   "metadata": {},
   "outputs": [],
   "source": [
    "import pandas as pd\n",
    "import seaborn as sns\n",
    "import matplotlib.pyplot as plt\n",
    "import numpy as np\n",
    "from numpy import mean\n",
    "from sklearn.linear_model import LinearRegression\n",
    "from sklearn.ensemble import RandomForestRegressor, ExtraTreesRegressor, GradientBoostingRegressor\n",
    "from sklearn.tree import DecisionTreeRegressor\n",
    "from sklearn.metrics import mean_squared_error, r2_score, mean_absolute_error\n",
    "from sklearn.model_selection import KFold, cross_val_score, train_test_split, cross_validate\n",
    "from sklearn.preprocessing import StandardScaler, MinMaxScaler\n",
    "from sklearn.base import clone"
   ]
  },
  {
   "cell_type": "code",
   "execution_count": 2,
   "metadata": {},
   "outputs": [
    {
     "name": "stdout",
     "output_type": "stream",
     "text": [
      "<class 'pandas.core.frame.DataFrame'>\n",
      "RangeIndex: 5981 entries, 0 to 5980\n",
      "Data columns (total 10 columns):\n",
      " #   Column         Non-Null Count  Dtype  \n",
      "---  ------         --------------  -----  \n",
      " 0   address        5981 non-null   object \n",
      " 1   adm-fees       3977 non-null   float64\n",
      " 2   garage-places  5981 non-null   object \n",
      " 3   price          5951 non-null   float64\n",
      " 4   rooms          5981 non-null   object \n",
      " 5   square-foot    5981 non-null   object \n",
      " 6   neighborhood   5957 non-null   object \n",
      " 7   city           5981 non-null   object \n",
      " 8   latitude       5981 non-null   float64\n",
      " 9   longitude      5981 non-null   float64\n",
      "dtypes: float64(4), object(6)\n",
      "memory usage: 467.4+ KB\n"
     ]
    }
   ],
   "source": [
    "# leitura do arquivo\n",
    "bh = pd.read_csv('data.csv')\n",
    "bh.info()"
   ]
  },
  {
   "cell_type": "code",
   "execution_count": 3,
   "metadata": {},
   "outputs": [],
   "source": [
    "# renomear colunas\n",
    "bh = bh.rename(columns={\n",
    "    'city':'cidade',\n",
    "    'address':'endereco',\n",
    "    'adm-fees':'condominio',\n",
    "    'garage-places':'vagas',\n",
    "    'price':'preco',\n",
    "    'rooms':'quartos',\n",
    "    'square-foot':'area',\n",
    "    'neighborhood':'bairro',\n",
    "})\n",
    "\n",
    "# bh"
   ]
  },
  {
   "cell_type": "code",
   "execution_count": 4,
   "metadata": {},
   "outputs": [],
   "source": [
    "# remoção dos imóveis não pertencentes à Belo Horizonte\n",
    "bh = bh.loc[bh.cidade.str.contains('Belo Horizonte')].drop(columns=['cidade'])\n",
    "\n",
    "# bh"
   ]
  },
  {
   "cell_type": "code",
   "execution_count": 5,
   "metadata": {},
   "outputs": [],
   "source": [
    "# preço: remover registros nulos\n",
    "bh = bh.loc[bh.preco.notna()]\n",
    "\n",
    "# bh"
   ]
  },
  {
   "cell_type": "code",
   "execution_count": 6,
   "metadata": {},
   "outputs": [],
   "source": [
    "# preço: remoção dos outliers\n",
    "bh = bh[(bh.preco >= 80000) & (bh.preco <= 5000000)]\n",
    "\n",
    "# bh"
   ]
  },
  {
   "cell_type": "code",
   "execution_count": 7,
   "metadata": {},
   "outputs": [],
   "source": [
    "# preecher com zero os imóveis sem custo de condomínio\n",
    "bh = bh.fillna({'condominio': 0})\n",
    "bh = bh.astype({'condominio': int})\n",
    "\n",
    "# bh"
   ]
  },
  {
   "cell_type": "code",
   "execution_count": 8,
   "metadata": {},
   "outputs": [
    {
     "name": "stdout",
     "output_type": "stream",
     "text": [
      "    quartos vagas     area\n",
      "61      3-4   2-3   87-134\n",
      "76      3-4   2-3  103-128\n",
      "199     2-3   2-3    63-83\n",
      "395     2-3   1-2    55-75\n"
     ]
    }
   ],
   "source": [
    "# Amostra de valores no formato N-N\n",
    "print(bh.loc[(~bh.quartos.str.isnumeric()) & (~bh.vagas.str.isnumeric()) & (~bh.area.str.isnumeric()) & (~bh.vagas.str.contains('--')), ['quartos', 'vagas', 'area']])\n",
    "\n",
    "# bh"
   ]
  },
  {
   "cell_type": "code",
   "execution_count": 9,
   "metadata": {},
   "outputs": [],
   "source": [
    "# Remover valores ausentes e transformar valores N-N em numérico\n",
    "for col in ['quartos', 'vagas', 'area']:\n",
    "    bh = bh.loc[~bh.loc[:,col].str.startswith('--')]\n",
    "    vals = bh.loc[~bh.loc[:,col].str.isnumeric(), col].str.split('-',expand=True)\n",
    "    bh.loc[~bh.loc[:,col].str.isnumeric(), col] = vals[1]\n",
    "    bh = bh.astype({col: int})\n",
    "    \n",
    "# bh"
   ]
  },
  {
   "cell_type": "code",
   "execution_count": 10,
   "metadata": {},
   "outputs": [],
   "source": [
    "# remover número do endereço\n",
    "bh['endereco'] = bh['endereco'].str.split(',', expand=True)[0].str.strip()\n",
    "\n",
    "# remover brancos do campo bairro\n",
    "bh.bairro = bh.bairro.str.strip()\n",
    "\n",
    "# preenchimento de endereços faltante\n",
    "bh.loc[bh.endereco.str.contains('Nova Vista'), 'bairro'] = 'Nova Vista'\n",
    "bh.loc[bh.endereco.str.contains('Nova Vista'), 'endereco'] = 'Rua São Fidélis'\n",
    "\n",
    "bh.loc[bh.endereco.str.contains('Vila da Serra'), 'bairro'] = 'Vila da Serra'\n",
    "bh.loc[bh.endereco.str.contains('Vila da Serra'), 'endereco'] = 'Rua do Vale'\n",
    "\n",
    "# bh"
   ]
  },
  {
   "cell_type": "code",
   "execution_count": 11,
   "metadata": {},
   "outputs": [],
   "source": [
    "# preencher bairros faltantes\n",
    "bh.loc[(bh.bairro.isna()) & (bh.endereco.str.startswith('Rua Beija')), 'bairro'] = 'Planalto'\n",
    "bh.loc[(bh.bairro.isna()) & (bh.endereco.str.startswith('Rua Flor')), 'bairro'] = 'Beija Flor'\n",
    "bh.loc[(bh.bairro.isna()) & (bh.endereco.str.startswith('Rua Lírios')), 'bairro'] = 'Monte Verde'\n",
    "bh.loc[(bh.bairro.isna()) & (bh.endereco.str.startswith('Rua Pium')), 'bairro'] = 'Anchieta'\n",
    "\n",
    "# bh"
   ]
  },
  {
   "cell_type": "code",
   "execution_count": 12,
   "metadata": {},
   "outputs": [
    {
     "data": {
      "image/png": "[encoded data removed]",
      "text/plain": [
       "<Figure size 864x432 with 2 Axes>"
      ]
     },
     "metadata": {
      "needs_background": "light"
     },
     "output_type": "display_data"
    }
   ],
   "source": [
    "# Correlação\n",
    "plt.figure(figsize=(12, 6))\n",
    "hm = sns.heatmap(bh.corr(), vmin=-1, vmax=1, annot=True)\n",
    "hm.set_title('Correlação', pad=12);\n",
    "plt.show()"
   ]
  },
  {
   "cell_type": "code",
   "execution_count": 13,
   "metadata": {},
   "outputs": [
    {
     "data": {
      "image/png": "[encoded data removed]",
      "text/plain": [
       "<Figure size 360x360 with 1 Axes>"
      ]
     },
     "metadata": {
      "needs_background": "light"
     },
     "output_type": "display_data"
    }
   ],
   "source": [
    "# Distribuição do preço\n",
    "sns.displot(bh.preco, kde=True)\n",
    "plt.title(\"Distribuição do preço\")\n",
    "plt.xlabel(\"R$\")\n",
    "plt.ylabel(\"Quantidade\")\n",
    "plt.show()"
   ]
  },
  {
   "cell_type": "code",
   "execution_count": 14,
   "metadata": {},
   "outputs": [
    {
     "data": {
      "image/png": "[encoded data removed]",
      "text/plain": [
       "<Figure size 360x360 with 1 Axes>"
      ]
     },
     "metadata": {
      "needs_background": "light"
     },
     "output_type": "display_data"
    }
   ],
   "source": [
    "# Distribuição da área\n",
    "sns.displot(bh.area)\n",
    "plt.title(\"Distribuição da área\")\n",
    "plt.xlabel(\"M2\")\n",
    "plt.ylabel(\"Quantidade\")\n",
    "plt.show()"
   ]
  },
  {
   "cell_type": "code",
   "execution_count": 15,
   "metadata": {},
   "outputs": [
    {
     "data": {
      "image/png": "[encoded data removed]",
      "text/plain": [
       "<Figure size 432x288 with 1 Axes>"
      ]
     },
     "metadata": {
      "needs_background": "light"
     },
     "output_type": "display_data"
    }
   ],
   "source": [
    "# Distribuição do número de vagas\n",
    "vagas = bh.vagas.value_counts().sort_index()\n",
    "\n",
    "plt.bar([str(value) for value in vagas.index],  vagas.values / bh.shape[0])\n",
    "plt.title(\"Distribuição do número de vagas de garagem\")\n",
    "plt.xlabel(\"Número de Vagas\")\n",
    "plt.ylabel(\"%\")\n",
    "plt.show()"
   ]
  },
  {
   "cell_type": "code",
   "execution_count": 16,
   "metadata": {},
   "outputs": [
    {
     "data": {
      "image/png": "[encoded data removed]",
      "text/plain": [
       "<Figure size 432x288 with 1 Axes>"
      ]
     },
     "metadata": {
      "needs_background": "light"
     },
     "output_type": "display_data"
    }
   ],
   "source": [
    "# Distribuição do número de quartos\n",
    "quartos = bh.quartos.value_counts().sort_index()\n",
    "\n",
    "plt.bar([str(value) for value in quartos.index],  quartos.values / bh.shape[0])\n",
    "plt.title(\"Distribuição do número de quartos\")\n",
    "plt.xlabel(\"Número de Quartos\")\n",
    "plt.ylabel(\"%\")\n",
    "plt.show()"
   ]
  },
  {
   "cell_type": "code",
   "execution_count": 17,
   "metadata": {},
   "outputs": [],
   "source": [
    "_random_state = 1\n",
    "\n",
    "def exec_model(name, modelo, x, y, n_splits, funcs):\n",
    "    global res\n",
    "    scores = cross_validate(modelo, x, y, scoring=_scoring, cv=n_splits, n_jobs=-1)\n",
    "    vals = {'Regressor': name}\n",
    "    for s in _scoring:\n",
    "        _scores = scores['test_' + s]\n",
    "        for f in funcs:\n",
    "            vals[f.__name__ + '_' + s] = f(_scores)\n",
    "    res = pd.concat([res, pd.Series(vals).to_frame().T])\n",
    "\n",
    "def exec_models(X, y, x_type, n_splits=10, funcs=[mean, min, max]):\n",
    "    for m in _models:\n",
    "        exec_model(m.__class__.__name__ + '_' + x_type, clone(m), X, y, n_splits, funcs)"
   ]
  },
  {
   "cell_type": "code",
   "execution_count": 18,
   "metadata": {},
   "outputs": [
    {
     "data": {
      "text/html": [
       "<div>\n",
       "<style scoped>\n",
       "    .dataframe tbody tr th:only-of-type {\n",
       "        vertical-align: middle;\n",
       "    }\n",
       "\n",
       "    .dataframe tbody tr th {\n",
       "        vertical-align: top;\n",
       "    }\n",
       "\n",
       "    .dataframe thead th {\n",
       "        text-align: right;\n",
       "    }\n",
       "</style>\n",
       "<table border=\"1\" class=\"dataframe\">\n",
       "  <thead>\n",
       "    <tr style=\"text-align: right;\">\n",
       "      <th></th>\n",
       "      <th>Regressor</th>\n",
       "      <th>mean_r2</th>\n",
       "      <th>min_r2</th>\n",
       "      <th>max_r2</th>\n",
       "    </tr>\n",
       "  </thead>\n",
       "  <tbody>\n",
       "    <tr>\n",
       "      <th>0</th>\n",
       "      <td>RandomForestRegressor_normal_X</td>\n",
       "      <td>0.825536</td>\n",
       "      <td>0.78247</td>\n",
       "      <td>0.853824</td>\n",
       "    </tr>\n",
       "    <tr>\n",
       "      <th>0</th>\n",
       "      <td>ExtraTreesRegressor_normal_X</td>\n",
       "      <td>0.813019</td>\n",
       "      <td>0.773613</td>\n",
       "      <td>0.833851</td>\n",
       "    </tr>\n",
       "    <tr>\n",
       "      <th>0</th>\n",
       "      <td>GradientBoostingRegressor_normal_X</td>\n",
       "      <td>0.802545</td>\n",
       "      <td>0.780863</td>\n",
       "      <td>0.822425</td>\n",
       "    </tr>\n",
       "    <tr>\n",
       "      <th>0</th>\n",
       "      <td>DecisionTreeRegressor_normal_X</td>\n",
       "      <td>0.702833</td>\n",
       "      <td>0.674843</td>\n",
       "      <td>0.753822</td>\n",
       "    </tr>\n",
       "    <tr>\n",
       "      <th>0</th>\n",
       "      <td>LinearRegression_normal_X</td>\n",
       "      <td>0.476343</td>\n",
       "      <td>0.391748</td>\n",
       "      <td>0.552236</td>\n",
       "    </tr>\n",
       "  </tbody>\n",
       "</table>\n",
       "</div>"
      ],
      "text/plain": [
       "                            Regressor   mean_r2    min_r2    max_r2\n",
       "0      RandomForestRegressor_normal_X  0.825536   0.78247  0.853824\n",
       "0        ExtraTreesRegressor_normal_X  0.813019  0.773613  0.833851\n",
       "0  GradientBoostingRegressor_normal_X  0.802545  0.780863  0.822425\n",
       "0      DecisionTreeRegressor_normal_X  0.702833  0.674843  0.753822\n",
       "0           LinearRegression_normal_X  0.476343  0.391748  0.552236"
      ]
     },
     "execution_count": 18,
     "metadata": {},
     "output_type": "execute_result"
    }
   ],
   "source": [
    "bh2 = bh\n",
    "cols_to_drop = ['preco','endereco','bairro']\n",
    "_X = bh2.drop(columns=cols_to_drop)\n",
    "_y = bh2['preco']\n",
    "res = pd.DataFrame(columns=['Regressor'])\n",
    "_scoring = ['r2']\n",
    "_models = [LinearRegression(), DecisionTreeRegressor(random_state=_random_state), RandomForestRegressor(random_state=_random_state), ExtraTreesRegressor(n_estimators=100, random_state=_random_state), GradientBoostingRegressor(random_state=_random_state)]\n",
    "Xs = {\"normal_X\": _X}\n",
    "\n",
    "for k, v in Xs.items():\n",
    "    X_train, X_test, y_train, y_test = train_test_split(v, _y, test_size=0.30, random_state=_random_state)\n",
    "    exec_models(X_train, y_train, k, n_splits=5)\n",
    "\n",
    "res.sort_values(['mean_r2'], ascending=False)"
   ]
  },
  {
   "cell_type": "code",
   "execution_count": 19,
   "metadata": {},
   "outputs": [
    {
     "data": {
      "text/html": [
       "<div>\n",
       "<style scoped>\n",
       "    .dataframe tbody tr th:only-of-type {\n",
       "        vertical-align: middle;\n",
       "    }\n",
       "\n",
       "    .dataframe tbody tr th {\n",
       "        vertical-align: top;\n",
       "    }\n",
       "\n",
       "    .dataframe thead th {\n",
       "        text-align: right;\n",
       "    }\n",
       "</style>\n",
       "<table border=\"1\" class=\"dataframe\">\n",
       "  <thead>\n",
       "    <tr style=\"text-align: right;\">\n",
       "      <th></th>\n",
       "      <th>Regressor</th>\n",
       "      <th>mean_r2</th>\n",
       "      <th>min_r2</th>\n",
       "      <th>max_r2</th>\n",
       "    </tr>\n",
       "  </thead>\n",
       "  <tbody>\n",
       "    <tr>\n",
       "      <th>0</th>\n",
       "      <td>ExtraTreesRegressor_normal_X</td>\n",
       "      <td>0.836633</td>\n",
       "      <td>0.792674</td>\n",
       "      <td>0.859075</td>\n",
       "    </tr>\n",
       "    <tr>\n",
       "      <th>0</th>\n",
       "      <td>RandomForestRegressor_normal_X</td>\n",
       "      <td>0.831068</td>\n",
       "      <td>0.78351</td>\n",
       "      <td>0.855813</td>\n",
       "    </tr>\n",
       "    <tr>\n",
       "      <th>0</th>\n",
       "      <td>GradientBoostingRegressor_normal_X</td>\n",
       "      <td>0.804662</td>\n",
       "      <td>0.778191</td>\n",
       "      <td>0.819001</td>\n",
       "    </tr>\n",
       "  </tbody>\n",
       "</table>\n",
       "</div>"
      ],
      "text/plain": [
       "                            Regressor   mean_r2    min_r2    max_r2\n",
       "0        ExtraTreesRegressor_normal_X  0.836633  0.792674  0.859075\n",
       "0      RandomForestRegressor_normal_X  0.831068   0.78351  0.855813\n",
       "0  GradientBoostingRegressor_normal_X  0.804662  0.778191  0.819001"
      ]
     },
     "execution_count": 19,
     "metadata": {},
     "output_type": "execute_result"
    }
   ],
   "source": [
    "bh2 = bh\n",
    "# bairro - one hot encoding\n",
    "dummies = pd.get_dummies(bh2.bairro, prefix='bai', drop_first=True)\n",
    "bh2 = pd.concat([bh2, dummies], axis=1)\n",
    "\n",
    "# endereco - one hot encoding\n",
    "dummies = pd.get_dummies(bh2.endereco, prefix='end', drop_first=True)\n",
    "bh2 = pd.concat([bh2, dummies], axis=1)\n",
    "\n",
    "cols_to_drop = ['preco','endereco','bairro']\n",
    "_X = bh2.drop(columns=cols_to_drop)\n",
    "_y = bh2['preco']\n",
    "res = pd.DataFrame(columns=['Regressor'])\n",
    "_scoring = ['r2']\n",
    "_models = [RandomForestRegressor(random_state=_random_state), ExtraTreesRegressor(n_estimators=100, random_state=_random_state), GradientBoostingRegressor(random_state=_random_state)]\n",
    "Xs = {\"normal_X\": _X}\n",
    "\n",
    "for k, v in Xs.items():\n",
    "    X_train, X_test, y_train, y_test = train_test_split(v, _y, test_size=0.30, random_state=_random_state)\n",
    "    exec_models(X_train, y_train, k, n_splits=5)\n",
    "\n",
    "res.sort_values(['mean_r2'], ascending=False)"
   ]
  },
  {
   "cell_type": "code",
   "execution_count": 20,
   "metadata": {},
   "outputs": [
    {
     "data": {
      "text/html": [
       "<div>\n",
       "<style scoped>\n",
       "    .dataframe tbody tr th:only-of-type {\n",
       "        vertical-align: middle;\n",
       "    }\n",
       "\n",
       "    .dataframe tbody tr th {\n",
       "        vertical-align: top;\n",
       "    }\n",
       "\n",
       "    .dataframe thead th {\n",
       "        text-align: right;\n",
       "    }\n",
       "</style>\n",
       "<table border=\"1\" class=\"dataframe\">\n",
       "  <thead>\n",
       "    <tr style=\"text-align: right;\">\n",
       "      <th></th>\n",
       "      <th>Regressor</th>\n",
       "      <th>mean_r2</th>\n",
       "      <th>min_r2</th>\n",
       "      <th>max_r2</th>\n",
       "    </tr>\n",
       "  </thead>\n",
       "  <tbody>\n",
       "    <tr>\n",
       "      <th>0</th>\n",
       "      <td>ExtraTreesRegressor_normal_X</td>\n",
       "      <td>0.832762</td>\n",
       "      <td>0.782652</td>\n",
       "      <td>0.856555</td>\n",
       "    </tr>\n",
       "    <tr>\n",
       "      <th>0</th>\n",
       "      <td>RandomForestRegressor_normal_X</td>\n",
       "      <td>0.830659</td>\n",
       "      <td>0.783088</td>\n",
       "      <td>0.856492</td>\n",
       "    </tr>\n",
       "    <tr>\n",
       "      <th>0</th>\n",
       "      <td>GradientBoostingRegressor_normal_X</td>\n",
       "      <td>0.802858</td>\n",
       "      <td>0.775946</td>\n",
       "      <td>0.818584</td>\n",
       "    </tr>\n",
       "  </tbody>\n",
       "</table>\n",
       "</div>"
      ],
      "text/plain": [
       "                            Regressor   mean_r2    min_r2    max_r2\n",
       "0        ExtraTreesRegressor_normal_X  0.832762  0.782652  0.856555\n",
       "0      RandomForestRegressor_normal_X  0.830659  0.783088  0.856492\n",
       "0  GradientBoostingRegressor_normal_X  0.802858  0.775946  0.818584"
      ]
     },
     "execution_count": 20,
     "metadata": {},
     "output_type": "execute_result"
    }
   ],
   "source": [
    "bh2 = bh\n",
    "# bairro - one hot encoding\n",
    "dummies = pd.get_dummies(bh2.bairro, prefix='bai', drop_first=True)\n",
    "bh2 = pd.concat([bh2, dummies], axis=1)\n",
    "\n",
    "# endereco - one hot encoding\n",
    "dummies = pd.get_dummies(bh2.endereco, prefix='end', drop_first=True)\n",
    "bh2 = pd.concat([bh2, dummies], axis=1)\n",
    "\n",
    "cols_to_drop = ['preco','endereco','bairro','quartos']\n",
    "_X = bh2.drop(columns=cols_to_drop)\n",
    "_y = bh2['preco']\n",
    "res = pd.DataFrame(columns=['Regressor'])\n",
    "_scoring = ['r2']\n",
    "_models = [RandomForestRegressor(random_state=_random_state), ExtraTreesRegressor(n_estimators=100, random_state=_random_state), GradientBoostingRegressor(random_state=_random_state)]\n",
    "Xs = {\"normal_X\": _X}\n",
    "\n",
    "for k, v in Xs.items():\n",
    "    X_train, X_test, y_train, y_test = train_test_split(v, _y, test_size=0.30, random_state=_random_state)\n",
    "    exec_models(X_train, y_train, k, n_splits=5)\n",
    "\n",
    "res.sort_values(['mean_r2'], ascending=False)"
   ]
  },
  {
   "cell_type": "code",
   "execution_count": 21,
   "metadata": {},
   "outputs": [
    {
     "data": {
      "text/html": [
       "<div>\n",
       "<style scoped>\n",
       "    .dataframe tbody tr th:only-of-type {\n",
       "        vertical-align: middle;\n",
       "    }\n",
       "\n",
       "    .dataframe tbody tr th {\n",
       "        vertical-align: top;\n",
       "    }\n",
       "\n",
       "    .dataframe thead th {\n",
       "        text-align: right;\n",
       "    }\n",
       "</style>\n",
       "<table border=\"1\" class=\"dataframe\">\n",
       "  <thead>\n",
       "    <tr style=\"text-align: right;\">\n",
       "      <th></th>\n",
       "      <th>Regressor</th>\n",
       "      <th>mean_r2</th>\n",
       "      <th>min_r2</th>\n",
       "      <th>max_r2</th>\n",
       "    </tr>\n",
       "  </thead>\n",
       "  <tbody>\n",
       "    <tr>\n",
       "      <th>0</th>\n",
       "      <td>ExtraTreesRegressor_normal_X</td>\n",
       "      <td>0.836633</td>\n",
       "      <td>0.792674</td>\n",
       "      <td>0.859075</td>\n",
       "    </tr>\n",
       "    <tr>\n",
       "      <th>0</th>\n",
       "      <td>ExtraTreesRegressor_minmax_X</td>\n",
       "      <td>0.836121</td>\n",
       "      <td>0.793488</td>\n",
       "      <td>0.856475</td>\n",
       "    </tr>\n",
       "    <tr>\n",
       "      <th>0</th>\n",
       "      <td>ExtraTreesRegressor_standard_X</td>\n",
       "      <td>0.835989</td>\n",
       "      <td>0.793117</td>\n",
       "      <td>0.855721</td>\n",
       "    </tr>\n",
       "    <tr>\n",
       "      <th>0</th>\n",
       "      <td>RandomForestRegressor_normal_X</td>\n",
       "      <td>0.831068</td>\n",
       "      <td>0.78351</td>\n",
       "      <td>0.855813</td>\n",
       "    </tr>\n",
       "    <tr>\n",
       "      <th>0</th>\n",
       "      <td>RandomForestRegressor_standard_X</td>\n",
       "      <td>0.83091</td>\n",
       "      <td>0.783146</td>\n",
       "      <td>0.854645</td>\n",
       "    </tr>\n",
       "    <tr>\n",
       "      <th>0</th>\n",
       "      <td>RandomForestRegressor_minmax_X</td>\n",
       "      <td>0.830777</td>\n",
       "      <td>0.783325</td>\n",
       "      <td>0.85493</td>\n",
       "    </tr>\n",
       "    <tr>\n",
       "      <th>0</th>\n",
       "      <td>GradientBoostingRegressor_standard_X</td>\n",
       "      <td>0.804815</td>\n",
       "      <td>0.778572</td>\n",
       "      <td>0.819395</td>\n",
       "    </tr>\n",
       "    <tr>\n",
       "      <th>0</th>\n",
       "      <td>GradientBoostingRegressor_minmax_X</td>\n",
       "      <td>0.804726</td>\n",
       "      <td>0.778572</td>\n",
       "      <td>0.819001</td>\n",
       "    </tr>\n",
       "    <tr>\n",
       "      <th>0</th>\n",
       "      <td>GradientBoostingRegressor_normal_X</td>\n",
       "      <td>0.804662</td>\n",
       "      <td>0.778191</td>\n",
       "      <td>0.819001</td>\n",
       "    </tr>\n",
       "  </tbody>\n",
       "</table>\n",
       "</div>"
      ],
      "text/plain": [
       "                              Regressor   mean_r2    min_r2    max_r2\n",
       "0          ExtraTreesRegressor_normal_X  0.836633  0.792674  0.859075\n",
       "0          ExtraTreesRegressor_minmax_X  0.836121  0.793488  0.856475\n",
       "0        ExtraTreesRegressor_standard_X  0.835989  0.793117  0.855721\n",
       "0        RandomForestRegressor_normal_X  0.831068   0.78351  0.855813\n",
       "0      RandomForestRegressor_standard_X   0.83091  0.783146  0.854645\n",
       "0        RandomForestRegressor_minmax_X  0.830777  0.783325   0.85493\n",
       "0  GradientBoostingRegressor_standard_X  0.804815  0.778572  0.819395\n",
       "0    GradientBoostingRegressor_minmax_X  0.804726  0.778572  0.819001\n",
       "0    GradientBoostingRegressor_normal_X  0.804662  0.778191  0.819001"
      ]
     },
     "execution_count": 21,
     "metadata": {},
     "output_type": "execute_result"
    }
   ],
   "source": [
    "bh2 = bh\n",
    "# bairro - one hot encoding\n",
    "dummies = pd.get_dummies(bh2.bairro, prefix='bai', drop_first=True)\n",
    "bh2 = pd.concat([bh2, dummies], axis=1)\n",
    "\n",
    "# endereco - one hot encoding\n",
    "dummies = pd.get_dummies(bh2.endereco, prefix='end', drop_first=True)\n",
    "bh2 = pd.concat([bh2, dummies], axis=1)\n",
    "\n",
    "cols_to_drop = ['preco','endereco','bairro']\n",
    "_X = bh2.drop(columns=cols_to_drop)\n",
    "_y = bh2['preco']\n",
    "res = pd.DataFrame(columns=['Regressor'])\n",
    "_scoring = ['r2']\n",
    "_models = [RandomForestRegressor(random_state=_random_state), ExtraTreesRegressor(n_estimators=100, random_state=_random_state), GradientBoostingRegressor(random_state=_random_state)]\n",
    "\n",
    "standard_X = StandardScaler().fit_transform(_X)\n",
    "minmax_X = MinMaxScaler().fit_transform(_X)\n",
    "Xs = {\"normal_X\": _X, \"standard_X\": standard_X, \"minmax_X\": minmax_X}\n",
    "\n",
    "for k, v in Xs.items():\n",
    "    X_train, X_test, y_train, y_test = train_test_split(v, _y, test_size=0.30, random_state=_random_state)\n",
    "    exec_models(X_train, y_train, k, n_splits=5)\n",
    "\n",
    "res.sort_values(['mean_r2'], ascending=False)"
   ]
  },
  {
   "cell_type": "code",
   "execution_count": 22,
   "metadata": {},
   "outputs": [
    {
     "data": {
      "text/html": [
       "<div>\n",
       "<style scoped>\n",
       "    .dataframe tbody tr th:only-of-type {\n",
       "        vertical-align: middle;\n",
       "    }\n",
       "\n",
       "    .dataframe tbody tr th {\n",
       "        vertical-align: top;\n",
       "    }\n",
       "\n",
       "    .dataframe thead th {\n",
       "        text-align: right;\n",
       "    }\n",
       "</style>\n",
       "<table border=\"1\" class=\"dataframe\">\n",
       "  <thead>\n",
       "    <tr style=\"text-align: right;\">\n",
       "      <th></th>\n",
       "      <th>Regressor</th>\n",
       "      <th>mean_r2</th>\n",
       "      <th>mean_neg_mean_squared_error</th>\n",
       "      <th>mean_neg_root_mean_squared_error</th>\n",
       "    </tr>\n",
       "  </thead>\n",
       "  <tbody>\n",
       "    <tr>\n",
       "      <th>0</th>\n",
       "      <td>ExtraTreesRegressor_normal_X</td>\n",
       "      <td>0.836633</td>\n",
       "      <td>-103168532643.611053</td>\n",
       "      <td>-320120.88907</td>\n",
       "    </tr>\n",
       "    <tr>\n",
       "      <th>0</th>\n",
       "      <td>RandomForestRegressor_normal_X</td>\n",
       "      <td>0.831068</td>\n",
       "      <td>-106114471441.939484</td>\n",
       "      <td>-325046.24699</td>\n",
       "    </tr>\n",
       "    <tr>\n",
       "      <th>0</th>\n",
       "      <td>GradientBoostingRegressor_normal_X</td>\n",
       "      <td>0.804662</td>\n",
       "      <td>-122990752058.283691</td>\n",
       "      <td>-350380.767749</td>\n",
       "    </tr>\n",
       "  </tbody>\n",
       "</table>\n",
       "</div>"
      ],
      "text/plain": [
       "                            Regressor   mean_r2 mean_neg_mean_squared_error  \\\n",
       "0        ExtraTreesRegressor_normal_X  0.836633        -103168532643.611053   \n",
       "0      RandomForestRegressor_normal_X  0.831068        -106114471441.939484   \n",
       "0  GradientBoostingRegressor_normal_X  0.804662        -122990752058.283691   \n",
       "\n",
       "  mean_neg_root_mean_squared_error  \n",
       "0                    -320120.88907  \n",
       "0                    -325046.24699  \n",
       "0                   -350380.767749  "
      ]
     },
     "execution_count": 22,
     "metadata": {},
     "output_type": "execute_result"
    }
   ],
   "source": [
    "bh2 = bh\n",
    "# bairro - one hot encoding\n",
    "dummies = pd.get_dummies(bh2.bairro, prefix='bai', drop_first=True)\n",
    "bh2 = pd.concat([bh2, dummies], axis=1)\n",
    "\n",
    "# endereco - one hot encoding\n",
    "dummies = pd.get_dummies(bh2.endereco, prefix='end', drop_first=True)\n",
    "bh2 = pd.concat([bh2, dummies], axis=1)\n",
    "\n",
    "cols_to_drop = ['preco','endereco','bairro']\n",
    "_X = bh2.drop(columns=cols_to_drop)\n",
    "_y = bh2['preco']\n",
    "res = pd.DataFrame(columns=['Regressor'])\n",
    "_scoring = ['r2', 'neg_mean_squared_error', 'neg_root_mean_squared_error']\n",
    "_models = [RandomForestRegressor(random_state=_random_state), ExtraTreesRegressor(n_estimators=100, random_state=_random_state), GradientBoostingRegressor(random_state=_random_state)]\n",
    "\n",
    "Xs = {\"normal_X\": _X}\n",
    "\n",
    "for k, v in Xs.items():\n",
    "    X_train, X_test, y_train, y_test = train_test_split(v, _y, test_size=0.30, random_state=_random_state)\n",
    "    exec_models(X_train, y_train, k, n_splits=5, funcs=[mean])\n",
    "\n",
    "res.sort_values(['mean_r2'], ascending=False)"
   ]
  },
  {
   "cell_type": "code",
   "execution_count": 44,
   "metadata": {},
   "outputs": [
    {
     "data": {
      "image/png": "[encoded data removed]",
      "text/plain": [
       "<Figure size 576x396 with 1 Axes>"
      ]
     },
     "metadata": {},
     "output_type": "display_data"
    }
   ],
   "source": [
    "# Modelo que melhor generalizou\n",
    "X_train, X_test, y_train, y_test = train_test_split(_X, _y, test_size=0.30, random_state=_random_state)\n",
    "m = ExtraTreesRegressor(n_estimators=100, min_samples_split=5)\n",
    "\n",
    "model = clone(m)\n",
    "model.fit(X_train, y_train)\n",
    "y_predict = model.predict(X_test)\n",
    "sns.regplot(x=y_test, y=y_predict, line_kws={'color': 'red'})\n",
    "plt.show()"
   ]
  },
  {
   "cell_type": "code",
   "execution_count": null,
   "metadata": {},
   "outputs": [],
   "source": [
    "from yellowbrick.regressor import ResidualsPlot\n",
    "from sklearn.linear_model import Ridge\n",
    "\n",
    "# model = ResidualsPlot(Ridge)\n",
    "# model.fit(X_train, y_train)\n",
    "# # model.score(X_test, y_test)\n",
    "# model.show()\n",
    "\n",
    "# sns.distplot((y_test - y_predict), bins=50)\n",
    "\n",
    "# Matriz de dispersão relacionando pares de variáveis\n",
    "cols = ['distancia', 'dia_semana', 'tipo_compra', 'mes_partida', 'trajeto_num', 'antecedencia', 'vl_tarifa']\n",
    "sns.pairplot(bh2, height=1.5)\n",
    "plt.tight_layout()\n"
   ]
  }
 ],
 "metadata": {
  "interpreter": {
   "hash": "b5bcfd7e5da0674ecf8907623987f9ffb43dd15776082ddd7ed79d842970f7a6"
  },
  "kernelspec": {
   "display_name": "Python 3 (ipykernel)",
   "language": "python",
   "name": "python3"
  },
  "language_info": {
   "codemirror_mode": {
    "name": "ipython",
    "version": 3
   },
   "file_extension": ".py",
   "mimetype": "text/x-python",
   "name": "python",
   "nbconvert_exporter": "python",
   "pygments_lexer": "ipython3",
   "version": "3.9.12"
  }
 },
 "nbformat": 4,
 "nbformat_minor": 4
}
